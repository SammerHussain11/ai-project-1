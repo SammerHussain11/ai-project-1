{
 "cells": [
  {
   "cell_type": "markdown",
   "id": "64bf80f0",
   "metadata": {},
   "source": [
    "# 📘 Smart Service Classifier - Jupyter Notebook\n",
    "\n",
    "End-to-end ML pipeline for classifying client inquiries into service categories."
   ]
  },
  {
   "cell_type": "code",
   "execution_count": 1,
   "id": "c08fb674",
   "metadata": {},
   "outputs": [],
   "source": [
    "\n",
    "import pandas as pd\n",
    "import re\n",
    "import pickle\n",
    "from sklearn.model_selection import train_test_split\n",
    "from sklearn.feature_extraction.text import TfidfVectorizer\n",
    "from sklearn.linear_model import LogisticRegression\n",
    "from sklearn.ensemble import RandomForestClassifier\n",
    "from sklearn.metrics import accuracy_score, f1_score, confusion_matrix, classification_report\n",
    "import seaborn as sns\n",
    "import matplotlib.pyplot as plt\n"
   ]
  },
  {
   "cell_type": "code",
   "execution_count": 2,
   "id": "213a63c2",
   "metadata": {},
   "outputs": [
    {
     "data": {
      "text/html": [
       "<div>\n",
       "<style scoped>\n",
       "    .dataframe tbody tr th:only-of-type {\n",
       "        vertical-align: middle;\n",
       "    }\n",
       "\n",
       "    .dataframe tbody tr th {\n",
       "        vertical-align: top;\n",
       "    }\n",
       "\n",
       "    .dataframe thead th {\n",
       "        text-align: right;\n",
       "    }\n",
       "</style>\n",
       "<table border=\"1\" class=\"dataframe\">\n",
       "  <thead>\n",
       "    <tr style=\"text-align: right;\">\n",
       "      <th></th>\n",
       "      <th>text</th>\n",
       "      <th>label</th>\n",
       "    </tr>\n",
       "  </thead>\n",
       "  <tbody>\n",
       "    <tr>\n",
       "      <th>0</th>\n",
       "      <td>Create a blog platform for my content</td>\n",
       "      <td>Web Development</td>\n",
       "    </tr>\n",
       "    <tr>\n",
       "      <th>1</th>\n",
       "      <td>Can you manage our agile workflow?</td>\n",
       "      <td>Project Management</td>\n",
       "    </tr>\n",
       "    <tr>\n",
       "      <th>2</th>\n",
       "      <td>Need AI for predictive analytics</td>\n",
       "      <td>AI Solutions</td>\n",
       "    </tr>\n",
       "    <tr>\n",
       "      <th>3</th>\n",
       "      <td>Build a chatbot for customer support</td>\n",
       "      <td>AI Solutions</td>\n",
       "    </tr>\n",
       "    <tr>\n",
       "      <th>4</th>\n",
       "      <td>Create a brochure for our product</td>\n",
       "      <td>Graphic Design</td>\n",
       "    </tr>\n",
       "  </tbody>\n",
       "</table>\n",
       "</div>"
      ],
      "text/plain": [
       "                                    text               label\n",
       "0  Create a blog platform for my content     Web Development\n",
       "1     Can you manage our agile workflow?  Project Management\n",
       "2       Need AI for predictive analytics        AI Solutions\n",
       "3   Build a chatbot for customer support        AI Solutions\n",
       "4      Create a brochure for our product      Graphic Design"
      ]
     },
     "execution_count": 2,
     "metadata": {},
     "output_type": "execute_result"
    }
   ],
   "source": [
    "\n",
    "# Load dataset\n",
    "df = pd.read_csv(\"inquiries.csv\")\n",
    "df.head()\n"
   ]
  },
  {
   "cell_type": "code",
   "execution_count": 3,
   "id": "7d4bc908",
   "metadata": {},
   "outputs": [
    {
     "data": {
      "text/html": [
       "<div>\n",
       "<style scoped>\n",
       "    .dataframe tbody tr th:only-of-type {\n",
       "        vertical-align: middle;\n",
       "    }\n",
       "\n",
       "    .dataframe tbody tr th {\n",
       "        vertical-align: top;\n",
       "    }\n",
       "\n",
       "    .dataframe thead th {\n",
       "        text-align: right;\n",
       "    }\n",
       "</style>\n",
       "<table border=\"1\" class=\"dataframe\">\n",
       "  <thead>\n",
       "    <tr style=\"text-align: right;\">\n",
       "      <th></th>\n",
       "      <th>text</th>\n",
       "      <th>label</th>\n",
       "      <th>clean_text</th>\n",
       "    </tr>\n",
       "  </thead>\n",
       "  <tbody>\n",
       "    <tr>\n",
       "      <th>0</th>\n",
       "      <td>Create a blog platform for my content</td>\n",
       "      <td>Web Development</td>\n",
       "      <td>create a blog platform for my content</td>\n",
       "    </tr>\n",
       "    <tr>\n",
       "      <th>1</th>\n",
       "      <td>Can you manage our agile workflow?</td>\n",
       "      <td>Project Management</td>\n",
       "      <td>can you manage our agile workflow</td>\n",
       "    </tr>\n",
       "    <tr>\n",
       "      <th>2</th>\n",
       "      <td>Need AI for predictive analytics</td>\n",
       "      <td>AI Solutions</td>\n",
       "      <td>need ai for predictive analytics</td>\n",
       "    </tr>\n",
       "    <tr>\n",
       "      <th>3</th>\n",
       "      <td>Build a chatbot for customer support</td>\n",
       "      <td>AI Solutions</td>\n",
       "      <td>build a chatbot for customer support</td>\n",
       "    </tr>\n",
       "    <tr>\n",
       "      <th>4</th>\n",
       "      <td>Create a brochure for our product</td>\n",
       "      <td>Graphic Design</td>\n",
       "      <td>create a brochure for our product</td>\n",
       "    </tr>\n",
       "  </tbody>\n",
       "</table>\n",
       "</div>"
      ],
      "text/plain": [
       "                                    text               label  \\\n",
       "0  Create a blog platform for my content     Web Development   \n",
       "1     Can you manage our agile workflow?  Project Management   \n",
       "2       Need AI for predictive analytics        AI Solutions   \n",
       "3   Build a chatbot for customer support        AI Solutions   \n",
       "4      Create a brochure for our product      Graphic Design   \n",
       "\n",
       "                              clean_text  \n",
       "0  create a blog platform for my content  \n",
       "1      can you manage our agile workflow  \n",
       "2       need ai for predictive analytics  \n",
       "3   build a chatbot for customer support  \n",
       "4      create a brochure for our product  "
      ]
     },
     "execution_count": 3,
     "metadata": {},
     "output_type": "execute_result"
    }
   ],
   "source": [
    "\n",
    "# Text cleaning function\n",
    "def clean_text(text):\n",
    "    text = text.lower()\n",
    "    text = re.sub(r\"[^a-z\\s]\", \"\", text)\n",
    "    return text\n",
    "\n",
    "df[\"clean_text\"] = df[\"text\"].apply(clean_text)\n",
    "df.head()\n"
   ]
  },
  {
   "cell_type": "code",
   "execution_count": 4,
   "id": "418b8a25",
   "metadata": {},
   "outputs": [],
   "source": [
    "\n",
    "X = df[\"clean_text\"]\n",
    "y = df[\"label\"]\n",
    "\n",
    "X_train, X_test, y_train, y_test = train_test_split(X, y, test_size=0.2, random_state=42, stratify=y)\n",
    "\n",
    "# TF-IDF Vectorization\n",
    "vectorizer = TfidfVectorizer(stop_words=\"english\", max_features=3000)\n",
    "X_train_tfidf = vectorizer.fit_transform(X_train)\n",
    "X_test_tfidf = vectorizer.transform(X_test)\n"
   ]
  },
  {
   "cell_type": "code",
   "execution_count": 5,
   "id": "c3e1b492",
   "metadata": {},
   "outputs": [
    {
     "name": "stdout",
     "output_type": "stream",
     "text": [
      "📊 Logistic Regression Performance\n",
      "Accuracy: 1.0\n",
      "F1 Score: 1.0\n",
      "                    precision    recall  f1-score   support\n",
      "\n",
      "       3D Modeling       1.00      1.00      1.00        19\n",
      "      AI Solutions       1.00      1.00      1.00        22\n",
      "    Graphic Design       1.00      1.00      1.00        21\n",
      "Project Management       1.00      1.00      1.00        21\n",
      "   Web Development       1.00      1.00      1.00        17\n",
      "\n",
      "          accuracy                           1.00       100\n",
      "         macro avg       1.00      1.00      1.00       100\n",
      "      weighted avg       1.00      1.00      1.00       100\n",
      "\n"
     ]
    },
    {
     "data": {
      "image/png": "[encoded data removed]",
      "text/plain": [
       "<Figure size 640x480 with 2 Axes>"
      ]
     },
     "metadata": {},
     "output_type": "display_data"
    }
   ],
   "source": [
    "\n",
    "# Baseline model - Logistic Regression\n",
    "log_reg = LogisticRegression(max_iter=1000)\n",
    "log_reg.fit(X_train_tfidf, y_train)\n",
    "y_pred_lr = log_reg.predict(X_test_tfidf)\n",
    "\n",
    "print(\"📊 Logistic Regression Performance\")\n",
    "print(\"Accuracy:\", accuracy_score(y_test, y_pred_lr))\n",
    "print(\"F1 Score:\", f1_score(y_test, y_pred_lr, average=\"weighted\"))\n",
    "print(classification_report(y_test, y_pred_lr))\n",
    "\n",
    "sns.heatmap(confusion_matrix(y_test, y_pred_lr), annot=True, fmt=\"d\", cmap=\"Blues\")\n",
    "plt.title(\"Logistic Regression Confusion Matrix\")\n",
    "plt.show()\n"
   ]
  },
  {
   "cell_type": "code",
   "execution_count": 6,
   "id": "e5ac69d3",
   "metadata": {},
   "outputs": [
    {
     "name": "stdout",
     "output_type": "stream",
     "text": [
      "📊 Random Forest Performance\n",
      "Accuracy: 1.0\n",
      "F1 Score: 1.0\n",
      "                    precision    recall  f1-score   support\n",
      "\n",
      "       3D Modeling       1.00      1.00      1.00        19\n",
      "      AI Solutions       1.00      1.00      1.00        22\n",
      "    Graphic Design       1.00      1.00      1.00        21\n",
      "Project Management       1.00      1.00      1.00        21\n",
      "   Web Development       1.00      1.00      1.00        17\n",
      "\n",
      "          accuracy                           1.00       100\n",
      "         macro avg       1.00      1.00      1.00       100\n",
      "      weighted avg       1.00      1.00      1.00       100\n",
      "\n"
     ]
    },
    {
     "data": {
      "image/png": "[encoded data removed]",
      "text/plain": [
       "<Figure size 640x480 with 2 Axes>"
      ]
     },
     "metadata": {},
     "output_type": "display_data"
    }
   ],
   "source": [
    "\n",
    "# Improved model - Random Forest\n",
    "rf = RandomForestClassifier(n_estimators=200, random_state=42)\n",
    "rf.fit(X_train_tfidf, y_train)\n",
    "y_pred_rf = rf.predict(X_test_tfidf)\n",
    "\n",
    "print(\"📊 Random Forest Performance\")\n",
    "print(\"Accuracy:\", accuracy_score(y_test, y_pred_rf))\n",
    "print(\"F1 Score:\", f1_score(y_test, y_pred_rf, average=\"weighted\"))\n",
    "print(classification_report(y_test, y_pred_rf))\n",
    "\n",
    "sns.heatmap(confusion_matrix(y_test, y_pred_rf), annot=True, fmt=\"d\", cmap=\"Greens\")\n",
    "plt.title(\"Random Forest Confusion Matrix\")\n",
    "plt.show()\n"
   ]
  },
  {
   "cell_type": "code",
   "execution_count": 7,
   "id": "d93f57c5",
   "metadata": {},
   "outputs": [
    {
     "name": "stdout",
     "output_type": "stream",
     "text": [
      "✅ Model and Vectorizer saved successfully!\n"
     ]
    }
   ],
   "source": [
    "\n",
    "# Save the best model\n",
    "final_model = rf if accuracy_score(y_test, y_pred_rf) > accuracy_score(y_test, y_pred_lr) else log_reg\n",
    "\n",
    "pickle.dump(final_model, open(\"service_classifier.pkl\", \"wb\"))\n",
    "pickle.dump(vectorizer, open(\"vectorizer.pkl\", \"wb\"))\n",
    "\n",
    "print(\"✅ Model and Vectorizer saved successfully!\")\n"
   ]
  },
  {
   "cell_type": "code",
   "execution_count": 9,
   "id": "f17ceea0",
   "metadata": {},
   "outputs": [
    {
     "name": "stdout",
     "output_type": "stream",
     "text": [
      "Inquiry: Create a blog platform for my content\n",
      "Predicted Category: Web Development\n",
      "Confidence: 75.84 %\n"
     ]
    }
   ],
   "source": [
    "\n",
    "# Test inference\n",
    "sample = [\"Create a blog platform for my content\"]\n",
    "vectorized = vectorizer.transform(sample)\n",
    "prediction = final_model.predict(vectorized)[0]\n",
    "confidence = final_model.predict_proba(vectorized).max() * 100\n",
    "\n",
    "print(\"Inquiry:\", sample[0])\n",
    "print(\"Predicted Category:\", prediction)\n",
    "print(\"Confidence:\", round(confidence, 2), \"%\")\n"
   ]
  },
  {
   "cell_type": "code",
   "execution_count": null,
   "id": "542259cd-8469-448c-8003-b7e0f1ee8ea8",
   "metadata": {},
   "outputs": [],
   "source": []
  }
 ],
 "metadata": {
  "kernelspec": {
   "display_name": "Python 3 (ipykernel)",
   "language": "python",
   "name": "python3"
  },
  "language_info": {
   "codemirror_mode": {
    "name": "ipython",
    "version": 3
   },
   "file_extension": ".py",
   "mimetype": "text/x-python",
   "name": "python",
   "nbconvert_exporter": "python",
   "pygments_lexer": "ipython3",
   "version": "3.12.7"
  }
 },
 "nbformat": 4,
 "nbformat_minor": 5
}
